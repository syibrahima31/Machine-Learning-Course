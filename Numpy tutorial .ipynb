{
 "cells": [
  {
   "cell_type": "markdown",
   "metadata": {},
   "source": [
    "- *Author* : **Ibrahima Sy** \n",
    "\n",
    "- *Email*: syibrahima31@gmai.com\n",
    "- *github* : [Cliquez](https://github.com/syibrahima31)"
   ]
  },
  {
   "cell_type": "markdown",
   "metadata": {},
   "source": [
    "## OUTLINE\n",
    "--------------------------------------------------------------------------------------------------------------------------\n",
    "1. Numpy introduction\n",
    "2. Array basics \n",
    "3. Array vs list\n",
    "4. Dot Product \n",
    "5. Speed Test array vs list \n",
    "6. Multidimensional arrays \n",
    "7. Array indexing / slicing / boolean indexing \n",
    "8. Reshape \n",
    "9. Concatenation \n",
    "\n",
    "10. Broadcasting \n",
    "11. (Data Science) Functions and Axis \n",
    "12. Datatypes \n",
    "13. Copying\n",
    "14. Generating arrays \n",
    "15. Random numbers \n",
    "16. Linear Algebra(np.linalg)\n",
    "\n",
    "    -Eienvalues \n",
    "    \n",
    "17. Load Data form csv \n"
   ]
  },
  {
   "cell_type": "markdown",
   "metadata": {},
   "source": [
    "## **NUMPY** \n",
    "-------------------------------------------------------------\n",
    "\n",
    "**NumPy** est une bibliothèque pour langage de programmation Python, destinée à manipuler des *matrices* ou **tableaux     multidimensionnels** ainsi que des fonctions mathématiques   opérant sur ces tableaux.\n",
    "\n",
    "Plus précisément, cette bibliothèque logicielle libre et open source fournit de multiples fonctions permettant notamment de créer directement un tableau depuis un fichier ou au contraire de sauvegarder un tableau dans un fichier, et manipuler des vecteurs, matrices et polynômes.\n",
    "\n",
    "NumPy est la base de nombreuses bibliothéques: \n",
    "\n",
    "- **Data Science** , **Machine Leaning **, **Deep Learning**\n",
    "- **scikit-learn** , **matpltolib**, **pandas**\n",
    "\n",
    "\n",
    "**Numpy** a été ecrit en language **C**"
   ]
  },
  {
   "cell_type": "code",
   "execution_count": 20,
   "metadata": {},
   "outputs": [
    {
     "name": "stdout",
     "output_type": "stream",
     "text": [
      "1.19.2\n"
     ]
    }
   ],
   "source": [
    "#Importation de la librairie numpy \n",
    "import numpy as np \n",
    "\n",
    "#regrader la version de numpy\n",
    "print(np.__version__)\n"
   ]
  },
  {
   "cell_type": "markdown",
   "metadata": {},
   "source": [
    "### BASICS IN NUMPY "
   ]
  },
  {
   "cell_type": "code",
   "execution_count": 275,
   "metadata": {},
   "outputs": [],
   "source": [
    "# creation d'un tableau numpy \n",
    "a = np.array([1,2,4])\n",
    "\n",
    "# shape : retourne la taille du tableau \n",
    "a.shape \n",
    "\n",
    "# ndim : retourne : la dimensio de du tableau \n",
    "a.ndim \n",
    "\n",
    "# size : retourne le nombre d'éléments dans le tableau \n",
    "a.size \n",
    "\n",
    "# a.dtype : retourne le type des elements dans le tableau \n",
    "\n",
    "# a.itemsize \n",
    "a.itemsize \n",
    "\n",
    "# acces au premier elements \n",
    "a[0]\n",
    "\n",
    "# changer un elements\n",
    "a[0] = 10 \n",
    "\n",
    "#multiplication de deux tableau \n",
    "\n",
    "b = a* np.array([1,2,0])\n"
   ]
  },
  {
   "cell_type": "markdown",
   "metadata": {},
   "source": [
    "### ARRAY vs LIST "
   ]
  },
  {
   "cell_type": "code",
   "execution_count": 291,
   "metadata": {},
   "outputs": [],
   "source": [
    "# creation d'une liste \n",
    "L = [1,2,3]\n",
    "print(L)\n",
    "\n",
    "# creation d'un tableau numpy \n",
    "A = np.array([1,2,3])\n",
    "print(A)\n",
    "\n",
    "# diffence \n",
    "L + 2       # don't works \n",
    "L * 2       # pas le meme sens \n",
    "L + [4]     # meme role que append a peut prés\n",
    "\n",
    "\n",
    "# tableau numpy \n",
    "\n",
    "A + 2       #  il fait ce qu'on appelle le broadcasting\n",
    "A  * 2      #  meme chose \n",
    "A.append(3) # pas possible de rallonger le tableau une fois crees cést fini\n",
    "\n",
    "A + np.array([2]) # meme idée que le broadcasting \n",
    "\n",
    "\n",
    "# Notion de vectorisation \n",
    "np.sqrt(L)  # retourne un tableau de meme taille "
   ]
  },
  {
   "cell_type": "markdown",
   "metadata": {},
   "source": [
    "### DOT PRODUCT "
   ]
  },
  {
   "cell_type": "code",
   "execution_count": 90,
   "metadata": {},
   "outputs": [],
   "source": [
    "# creation de de deux listes \n",
    "L_1 = [1,2,3]\n",
    "L_2 = [2,4,5]\n",
    "\n",
    "#creation de deux vecteurs numpy \n",
    "A_1 = np.array([1,2,3])\n",
    "A_2  = np.array([2,4,5])"
   ]
  },
  {
   "cell_type": "code",
   "execution_count": 73,
   "metadata": {},
   "outputs": [
    {
     "name": "stdout",
     "output_type": "stream",
     "text": [
      "25\n"
     ]
    }
   ],
   "source": [
    "somme = 0\n",
    "for i in range(3):\n",
    "    somme = somme + L_1[i]*L_2[i]\n",
    "    \n",
    "print(somme)\n",
    "    \n",
    "    "
   ]
  },
  {
   "cell_type": "markdown",
   "metadata": {},
   "source": [
    "### SPEED TEST ARRAY VS LIST "
   ]
  },
  {
   "cell_type": "code",
   "execution_count": 79,
   "metadata": {},
   "outputs": [],
   "source": [
    "import time "
   ]
  },
  {
   "cell_type": "code",
   "execution_count": 91,
   "metadata": {},
   "outputs": [],
   "source": [
    "def dot_list():\n",
    "    somme = 0\n",
    "    for i in range(3):\n",
    "        somme = somme + L_1[i]*L_2[i]\n",
    "    return somme\n",
    "\n",
    "def dot_array():\n",
    "    return A_1.dot(A_2)\n"
   ]
  },
  {
   "cell_type": "code",
   "execution_count": 95,
   "metadata": {},
   "outputs": [],
   "source": [
    "T = 1000\n",
    "\n",
    "# mesure le temps avec les listes \n",
    "begin_1 = time.time()\n",
    "\n",
    "for i in range(T):\n",
    "    dot_list()\n",
    "\n",
    "end_1  = time.time()\n",
    "\n",
    "t_1 = end_1 - begin_1\n",
    "# on mesure le temps avec le tableau numpy \n",
    "\n",
    "begin_2 = time.time()\n",
    "for i in range(T):\n",
    "    dot_array()\n",
    "end_2 = time.time()\n",
    "\n",
    "t_2 = end_2 - begin_2"
   ]
  },
  {
   "cell_type": "code",
   "execution_count": 96,
   "metadata": {},
   "outputs": [
    {
     "data": {
      "text/plain": [
       "(0.002993345260620117, 0.004418373107910156)"
      ]
     },
     "execution_count": 96,
     "metadata": {},
     "output_type": "execute_result"
    }
   ],
   "source": [
    "t_1 , t_2"
   ]
  },
  {
   "cell_type": "code",
   "execution_count": 97,
   "metadata": {},
   "outputs": [
    {
     "name": "stdout",
     "output_type": "stream",
     "text": [
      "temps avec les listes :0.002993\n",
      "temps avec les tableaux numpy:  0.004418\n",
      "On compare le ratio 0.6774767968918627\n"
     ]
    }
   ],
   "source": [
    "print(f\"temps avec les listes :{t_1:.6f}\")\n",
    "print(f\"temps avec les tableaux numpy: { t_2 : .6f}\" )\n",
    "print(f\"On compare le ratio {t_1 / t_2 }\")"
   ]
  },
  {
   "cell_type": "markdown",
   "metadata": {},
   "source": [
    "### MULTIDIMENSIONNAL ARRAYS "
   ]
  },
  {
   "cell_type": "code",
   "execution_count": 289,
   "metadata": {},
   "outputs": [],
   "source": [
    "# tableau en 1 D \n",
    "a = np.array([1,2,3])\n",
    "print(a.shape)\n",
    "\n",
    "# tableau a  2 D \n",
    "b= np.array([[1,2,3], [4,3,2]])\n",
    "print(b.shape)\n",
    "\n",
    "b[0][0]  # on peut acceder comme ca au prrmier elements \n",
    "b[0,0]   # c'est ce qui est conseillé \n",
    "\n",
    "# transpose the matrix \n",
    "b.T \n",
    "\n",
    "#inverse de la matrice \n",
    "np.linalg.inv(b)  \n",
    "\n",
    "# diagonal matrice \n",
    "np.diag(b)"
   ]
  },
  {
   "cell_type": "code",
   "execution_count": 112,
   "metadata": {},
   "outputs": [
    {
     "data": {
      "text/plain": [
       "array([[-0.6,  0.4],\n",
       "       [ 0.8, -0.2]])"
      ]
     },
     "execution_count": 112,
     "metadata": {},
     "output_type": "execute_result"
    }
   ],
   "source": [
    "b= np.array([[1,2], [4,3]])\n",
    "\n",
    "np.linalg.inv(b)"
   ]
  },
  {
   "cell_type": "markdown",
   "metadata": {},
   "source": [
    "### ARRAY INDEXING /SLICING / BOOLEAN INDEXING  "
   ]
  },
  {
   "cell_type": "code",
   "execution_count": 114,
   "metadata": {},
   "outputs": [
    {
     "data": {
      "text/plain": [
       "array([[2],\n",
       "       [4]])"
      ]
     },
     "execution_count": 114,
     "metadata": {},
     "output_type": "execute_result"
    }
   ],
   "source": [
    "a = np.array([[1,2,3,4], [3,4, 5,6]])\n",
    "\n",
    "# indexation 1 element \n",
    "a[0, 0 ]\n",
    "\n",
    "# a[0] acceder a la premiere ligne \n",
    "a[0]\n",
    "\n",
    "# a[1] acceder la second ligne \n",
    "a[1]\n",
    "\n",
    "# a[0:2, 1:2]  slicing \n",
    "a[0:2, 1:2]  "
   ]
  },
  {
   "cell_type": "code",
   "execution_count": 137,
   "metadata": {},
   "outputs": [
    {
     "name": "stdout",
     "output_type": "stream",
     "text": [
      "[[8 1 9 5]\n",
      " [2 8 2 4]\n",
      " [9 5 7 8]\n",
      " [2 5 6 8]]\n"
     ]
    }
   ],
   "source": [
    "# bolean indexing \n",
    "np.random.seed(120)\n",
    "\n",
    "a = np.random.randint(1,10, size=(4,4))\n",
    "print(a)\n",
    "\n",
    "# on recupere les valeurs supérieiur á 5 \n",
    "\n",
    "index_bool = a > 5 \n",
    "index_bool \n",
    "\n",
    "print(a[index_bool])  # on recupere les vaeurs mais dans un tableau a 1 D\n",
    "\n",
    "\n",
    "# np.where permet de regeler cela\n",
    "np.where(a > 5, a , 0)"
   ]
  },
  {
   "cell_type": "code",
   "execution_count": 132,
   "metadata": {},
   "outputs": [
    {
     "data": {
      "text/plain": [
       "array([10, 30, 50])"
      ]
     },
     "execution_count": 132,
     "metadata": {},
     "output_type": "execute_result"
    }
   ],
   "source": [
    "# fancy indexing \n",
    "a = np.array([10,119,30, 41, 50 , 61])\n",
    "\n",
    "index = np.argwhere(a%2 == 0 ).ravel()\n",
    "\n",
    "a[index ]"
   ]
  },
  {
   "cell_type": "markdown",
   "metadata": {},
   "source": [
    "### RESHAPE ARRAY "
   ]
  },
  {
   "cell_type": "code",
   "execution_count": 292,
   "metadata": {},
   "outputs": [],
   "source": [
    "a = np.arange(10)\n",
    "\n",
    "# la taille \n",
    "print(a.shape)\n",
    "\n",
    "# # reshape \n",
    "a.reshape(2,5)\n",
    "\n",
    "# # use newaxis \n",
    "a[:, np.newaxis]\n"
   ]
  },
  {
   "cell_type": "code",
   "execution_count": 153,
   "metadata": {},
   "outputs": [
    {
     "data": {
      "text/plain": [
       "(1, 10)"
      ]
     },
     "execution_count": 153,
     "metadata": {},
     "output_type": "execute_result"
    }
   ],
   "source": []
  },
  {
   "cell_type": "code",
   "execution_count": null,
   "metadata": {},
   "outputs": [],
   "source": []
  },
  {
   "cell_type": "markdown",
   "metadata": {},
   "source": [
    "### CONCATENATION "
   ]
  },
  {
   "cell_type": "code",
   "execution_count": 161,
   "metadata": {},
   "outputs": [
    {
     "data": {
      "text/plain": [
       "(array([[1, 2],\n",
       "        [3, 4]]),\n",
       " array([[5, 6]]))"
      ]
     },
     "execution_count": 161,
     "metadata": {},
     "output_type": "execute_result"
    }
   ],
   "source": [
    "a = np.array([[1,2],[3,4]])\n",
    "b = np.array([[5,6]])\n",
    "\n",
    "# use np.concatenate \n",
    "np.concatenate([a,b], axis = None ) # utiliser axis et penser a faire du reshaping \n",
    "\n",
    "# use hstack and vstack\n",
    "\n",
    "# np.vstack([a,b])\n",
    "a, b"
   ]
  },
  {
   "cell_type": "code",
   "execution_count": 168,
   "metadata": {},
   "outputs": [
    {
     "data": {
      "text/plain": [
       "array([[1, 2, 5],\n",
       "       [3, 4, 6]])"
      ]
     },
     "execution_count": 168,
     "metadata": {},
     "output_type": "execute_result"
    }
   ],
   "source": [
    "np.hstack((a,b.reshape(-1,1)))\n"
   ]
  },
  {
   "cell_type": "code",
   "execution_count": null,
   "metadata": {},
   "outputs": [],
   "source": []
  },
  {
   "cell_type": "markdown",
   "metadata": {},
   "source": [
    "###  BROADCASTING "
   ]
  },
  {
   "cell_type": "code",
   "execution_count": 173,
   "metadata": {},
   "outputs": [],
   "source": [
    "x = np.array([[1,2,3],[4,5,6], [1,2,3], [4,5,6]])\n",
    "a = np.array([1,0,1])"
   ]
  },
  {
   "cell_type": "code",
   "execution_count": 177,
   "metadata": {},
   "outputs": [
    {
     "data": {
      "text/plain": [
       "array([[2, 2, 4],\n",
       "       [5, 5, 7],\n",
       "       [2, 2, 4],\n",
       "       [5, 5, 7]])"
      ]
     },
     "execution_count": 177,
     "metadata": {},
     "output_type": "execute_result"
    }
   ],
   "source": []
  },
  {
   "cell_type": "markdown",
   "metadata": {},
   "source": [
    "### FUNCTIONS AXIS "
   ]
  },
  {
   "cell_type": "code",
   "execution_count": 178,
   "metadata": {},
   "outputs": [
    {
     "data": {
      "text/plain": [
       "4.33984375"
      ]
     },
     "execution_count": 178,
     "metadata": {},
     "output_type": "execute_result"
    }
   ],
   "source": [
    "np.random.seed(30)\n",
    "\n",
    "a = np.random.randint(1,10, size =(4,4) )\n",
    "\n",
    "# sum avec la precision de axis \n",
    "\n",
    "a.sum()\n",
    "\n",
    "a.sum(axis= 0)\n",
    "a.sum(axis = 1)\n",
    "\n",
    "a.var()"
   ]
  },
  {
   "cell_type": "code",
   "execution_count": 179,
   "metadata": {},
   "outputs": [
    {
     "data": {
      "text/plain": [
       "array([[6, 6, 5, 8],\n",
       "       [3, 6, 2, 4],\n",
       "       [8, 8, 2, 2],\n",
       "       [4, 3, 3, 5]])"
      ]
     },
     "execution_count": 179,
     "metadata": {},
     "output_type": "execute_result"
    }
   ],
   "source": [
    "a "
   ]
  },
  {
   "cell_type": "code",
   "execution_count": 186,
   "metadata": {},
   "outputs": [
    {
     "data": {
      "text/plain": [
       "array([6.25, 3.75, 5.  , 3.75])"
      ]
     },
     "execution_count": 186,
     "metadata": {},
     "output_type": "execute_result"
    }
   ],
   "source": [
    "# np.sum(a)\n",
    "a.mean(axis = 1)"
   ]
  },
  {
   "cell_type": "markdown",
   "metadata": {},
   "source": [
    "### DATATYPES "
   ]
  },
  {
   "cell_type": "code",
   "execution_count": 194,
   "metadata": {},
   "outputs": [
    {
     "name": "stdout",
     "output_type": "stream",
     "text": [
      "[1. 2. 3.]\n",
      "float64\n"
     ]
    },
    {
     "data": {
      "text/plain": [
       "array([1, 2, 3], dtype=int64)"
      ]
     },
     "execution_count": 194,
     "metadata": {},
     "output_type": "execute_result"
    }
   ],
   "source": [
    "x = np.array([1,2,3.0], dtype = np.float64)\n",
    "\n",
    "print(x)\n",
    "\n",
    "print(x.dtype)\n",
    "\n",
    "x.astype(np.int64)  # ou bien lors de la creation avec array "
   ]
  },
  {
   "cell_type": "markdown",
   "metadata": {},
   "source": [
    "###  COPYING "
   ]
  },
  {
   "cell_type": "code",
   "execution_count": 204,
   "metadata": {},
   "outputs": [
    {
     "data": {
      "text/plain": [
       "array([1, 2, 4])"
      ]
     },
     "execution_count": 204,
     "metadata": {},
     "output_type": "execute_result"
    }
   ],
   "source": [
    "a = np.array([1,2,4])\n",
    "\n",
    "a\n",
    "\n",
    "b = a.copy()\n",
    "\n",
    "a[0] = 1000\n",
    "\n",
    "b"
   ]
  },
  {
   "cell_type": "markdown",
   "metadata": {},
   "source": [
    "### GENERATING ARRAYS "
   ]
  },
  {
   "cell_type": "code",
   "execution_count": 242,
   "metadata": {},
   "outputs": [
    {
     "data": {
      "text/plain": [
       "array([-10.        ,  -7.77777778,  -5.55555556,  -3.33333333,\n",
       "        -1.11111111,   1.11111111,   3.33333333,   5.55555556,\n",
       "         7.77777778,  10.        ])"
      ]
     },
     "execution_count": 242,
     "metadata": {},
     "output_type": "execute_result"
    }
   ],
   "source": [
    "# np.zeros()\n",
    "\n",
    "np.zeros(10) # vecteur ou matrice remplie de 0\n",
    "\n",
    "np.ones((2,4)) #  vecteur ou matrice remplie de 1 \n",
    "\n",
    "np.full((2,2), 4) # tu specifie la valeur de remplissage\n",
    "\n",
    "np.eye(2)    # creationde la mmatrice identite \n",
    "\n",
    "np.arange(10) # equivalent de range\n",
    "\n",
    "np.linspace(-10,10, 10)"
   ]
  },
  {
   "cell_type": "code",
   "execution_count": 219,
   "metadata": {},
   "outputs": [
    {
     "data": {
      "text/plain": [
       "array([1000,  100,    4])"
      ]
     },
     "execution_count": 219,
     "metadata": {},
     "output_type": "execute_result"
    }
   ],
   "source": [
    "np.full(shape =(4,4),fill_value=3)\n",
    "\n",
    "a[a== 2] = 100\n"
   ]
  },
  {
   "cell_type": "markdown",
   "metadata": {},
   "source": [
    "### RANDOM NUMBERS "
   ]
  },
  {
   "cell_type": "code",
   "execution_count": 225,
   "metadata": {},
   "outputs": [
    {
     "name": "stdout",
     "output_type": "stream",
     "text": [
      "[3 1 1 4 2 1 1 1 4 2]\n"
     ]
    }
   ],
   "source": [
    "a = np.random.randn(10)\n",
    "\n",
    "b = np.random.random( 100)  # gaussian distribution \n",
    "\n",
    "c = np.random.randint(1,5)\n",
    "\n",
    "a = np.random.choice(5, size = 10)\n",
    "print(a)"
   ]
  },
  {
   "cell_type": "code",
   "execution_count": null,
   "metadata": {},
   "outputs": [],
   "source": []
  },
  {
   "cell_type": "markdown",
   "metadata": {},
   "source": [
    "### LINEAR ALGEBRA (np.linalg)\n",
    "\n",
    "def : Soit $A$ une matrice carré de type $n \\times n $ alors un vecteur propre $A$ est un vecteur $\\vec{u}$ qui satifait les conditions suivants :\n",
    "\n",
    "$$A\\vec{u} = \\lambda \\vec{u}$$"
   ]
  },
  {
   "cell_type": "code",
   "execution_count": 266,
   "metadata": {},
   "outputs": [
    {
     "name": "stdout",
     "output_type": "stream",
     "text": [
      "[-0.37228132  5.37228132]\n",
      "[[-0.82456484 -0.41597356]\n",
      " [ 0.56576746 -0.90937671]]\n"
     ]
    }
   ],
   "source": [
    "a = np.array([[1,2], [3,4]])\n",
    "\n",
    "eigenvalues, eigenvectors = np.linalg.eig(a)\n",
    "print(eigenvalues)\n",
    "print(eigenvectors) # columns vectors "
   ]
  },
  {
   "cell_type": "code",
   "execution_count": 272,
   "metadata": {},
   "outputs": [
    {
     "data": {
      "text/plain": [
       "array([[ 0.30697009, -2.23472698],\n",
       "       [-0.21062466, -4.88542751]])"
      ]
     },
     "execution_count": 272,
     "metadata": {},
     "output_type": "execute_result"
    }
   ],
   "source": [
    "eigenvalues * eigenvectors "
   ]
  },
  {
   "cell_type": "code",
   "execution_count": 273,
   "metadata": {},
   "outputs": [
    {
     "data": {
      "text/plain": [
       "array([[ 0.30697009, -2.23472698],\n",
       "       [-0.21062466, -4.88542751]])"
      ]
     },
     "execution_count": 273,
     "metadata": {},
     "output_type": "execute_result"
    }
   ],
   "source": [
    "a.dot(eigenvectors)"
   ]
  },
  {
   "cell_type": "markdown",
   "metadata": {},
   "source": [
    "### LOAD DATA  FROM  csv "
   ]
  },
  {
   "cell_type": "code",
   "execution_count": 19,
   "metadata": {},
   "outputs": [],
   "source": [
    "# use genformtxt or loadtxthttp://localhost:8888/notebooks/Desktop/Master%20Data%20Science%20et%20IA/Data%20Analysis/Chapitre%201/Numpy%20tutorial%20.ipynb#\n",
    "import numpy as np \n",
    "\n",
    "# # np.genfromtxt()\n",
    "\n",
    "# np.loadtxt()"
   ]
  },
  {
   "cell_type": "code",
   "execution_count": 228,
   "metadata": {},
   "outputs": [],
   "source": [
    " wine = np.genfromtxt(\"wine.csv\", delimiter=\",\",skip_header= 1)"
   ]
  },
  {
   "cell_type": "code",
   "execution_count": 230,
   "metadata": {},
   "outputs": [
    {
     "data": {
      "text/plain": [
       "(178, 14)"
      ]
     },
     "execution_count": 230,
     "metadata": {},
     "output_type": "execute_result"
    }
   ],
   "source": [
    "wine.shape "
   ]
  },
  {
   "cell_type": "code",
   "execution_count": null,
   "metadata": {},
   "outputs": [],
   "source": []
  }
 ],
 "metadata": {
  "kernelspec": {
   "display_name": "Python 3",
   "language": "python",
   "name": "python3"
  },
  "language_info": {
   "codemirror_mode": {
    "name": "ipython",
    "version": 3
   },
   "file_extension": ".py",
   "mimetype": "text/x-python",
   "name": "python",
   "nbconvert_exporter": "python",
   "pygments_lexer": "ipython3",
   "version": "3.8.5"
  }
 },
 "nbformat": 4,
 "nbformat_minor": 4
}
