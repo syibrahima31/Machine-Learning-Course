{
 "cells": [
  {
   "cell_type": "markdown",
   "metadata": {},
   "source": [
    "#  Le classifier Naive Bayes \n",
    "\n",
    "* Le Naive Bayes est l’un des algorithmes de classification les plus simples à comprendre . Un des domaines d’application classique de ce modèle est la classification de textes en se basant uniquement sur la fréquence d’apparition des mots.\n",
    "\n",
    "* cette algorithme se repose  sur l’hypothèse simpliste (naïve) d’indépendance totale des variables, c’est un algorithme polyvalent dont on retrouve naturellement l’application dans de multiples secteurs d’activité, même quand l’hypothèse de base est violée . \n",
    "\n",
    "\n",
    "Le classifieur optimale de bayes est par : \n",
    "\n",
    "$$g(x) = \\argmax_{l \\in \\{1, \\dots, K \\} } \\mathbb{P}(Y=l|X=x)$$\n",
    "\n",
    "Pour pouvoir appliquer cette règle, il faut disposer des probabilité à posteriori $\\mathbb{P}(Y=l|X=x)$\n",
    "\n",
    "\n",
    "* Les approches basées sur un modèle consistent à apprendre la loi de $Y$ sachant\n",
    "$X$ pour en déduire ensuite la règle de classification $g$ on peut citer : \n",
    "\n",
    "1. analyse discriminante linéaire et quadratique, \n",
    "2. bayésien naïf\n",
    "3. régression logistique.\n",
    "4. $\\dots$\n",
    "\n",
    "Dans cette meme approche on peut scinder en deux : \n",
    "- *Une approche directe* : consiste à apprendre directement la loi de $Y$ sachant $X$. Par\n",
    "exemple en régression logistique \n"
   ]
  },
  {
   "cell_type": "markdown",
   "metadata": {},
   "source": []
  },
  {
   "cell_type": "code",
   "execution_count": 54,
   "metadata": {},
   "outputs": [],
   "source": [
    "import numpy as np \n",
    "import pandas as pd \n",
    "import math \n",
    "import matplotlib.pyplot as plt \n",
    "from sklearn.datasets import load_iris\n"
   ]
  },
  {
   "cell_type": "code",
   "execution_count": 55,
   "metadata": {},
   "outputs": [],
   "source": [
    "data = load_iris( )\n",
    "X = data.data \n",
    "y = data.target "
   ]
  },
  {
   "cell_type": "code",
   "execution_count": 136,
   "metadata": {},
   "outputs": [],
   "source": [
    "class NaivesBayes: \n",
    "    def __init__(self):\n",
    "        self._pdf = np.vectorize(self._pdf)\n",
    "        \n",
    "\n",
    "\n",
    "    def fit(self, X, y): \n",
    "        n_samples, n_features = X.shape \n",
    "        self.n_classes = np.unique(y).shape[0]\n",
    "\n",
    "        data = np.concatenate([X, y.reshape(-1,1)], axis=1)\n",
    "\n",
    "\n",
    "\n",
    "        self.mean = np.zeros(shape=(self.n_classes, n_features))\n",
    "        self.var= np.zeros(shape=(self.n_classes, n_features)) \n",
    "        self.prior = np.zeros(shape=(self.n_classes))\n",
    "\n",
    "\n",
    "        for c in range(self.n_classes): \n",
    "            X_c = data[y==c][:, :-1]\n",
    "            self.mean[c] = X_c.mean(axis=0)\n",
    "            self.var[c]= X_c.var(axis=0)\n",
    "            prior_c = X_c.shape[0]/n_samples\n",
    "            self.prior[c]= prior_c\n",
    "\n",
    "\n",
    "    def predict(self,X): \n",
    "        predicted = [self._predict(x) for x in X]\n",
    "        return np.array(predicted)\n",
    "\n",
    "        \n",
    "    \n",
    "    def _predict(self, obs): \n",
    "\n",
    "        L = []\n",
    "        for c  in range(self.n_classes):\n",
    "            res = self._pdf(obs, self.mean[c], self.prior[c]).prod() * self.prior[c]\n",
    "            L.append(res)\n",
    "        \n",
    "        L = np.array(L)\n",
    "\n",
    "        \n",
    "\n",
    "        return  np.argmax(L) \n",
    "        \n",
    "\n",
    "    def _pdf(self,x, mean, var):\n",
    "\n",
    "        numerator = math.exp((-(x-mean)**2)/(2*var))\n",
    "        denominator = math.sqrt(2* math.pi * (var))\n",
    "        return numerator / denominator\n",
    "    \n",
    "     "
   ]
  },
  {
   "cell_type": "code",
   "execution_count": 137,
   "metadata": {},
   "outputs": [],
   "source": [
    "model = NaivesBayes()"
   ]
  },
  {
   "cell_type": "code",
   "execution_count": 138,
   "metadata": {},
   "outputs": [],
   "source": [
    "model.fit(X, y)\n",
    "obs = X[0]"
   ]
  },
  {
   "cell_type": "code",
   "execution_count": 140,
   "metadata": {},
   "outputs": [],
   "source": [
    "pred = model.predict(X)"
   ]
  },
  {
   "cell_type": "code",
   "execution_count": 118,
   "metadata": {},
   "outputs": [],
   "source": [
    "def f(x, mean, var):\n",
    "    numerator = math.exp((-(x-mean)**2)/(2*var**2))\n",
    "    denominator = math.sqrt(2* math.pi * (var**2))\n",
    "    return numerator / denominator"
   ]
  },
  {
   "cell_type": "code",
   "execution_count": 142,
   "metadata": {},
   "outputs": [
    {
     "data": {
      "text/plain": [
       "0.9266666666666666"
      ]
     },
     "execution_count": 142,
     "metadata": {},
     "output_type": "execute_result"
    }
   ],
   "source": [
    "np.sum(pred==y) / y.shape[0]"
   ]
  },
  {
   "cell_type": "code",
   "execution_count": 127,
   "metadata": {},
   "outputs": [
    {
     "data": {
      "text/plain": [
       "1"
      ]
     },
     "execution_count": 127,
     "metadata": {},
     "output_type": "execute_result"
    }
   ],
   "source": [
    "np.argmax(A)"
   ]
  },
  {
   "cell_type": "code",
   "execution_count": 86,
   "metadata": {},
   "outputs": [
    {
     "data": {
      "text/plain": [
       "0.0"
      ]
     },
     "execution_count": 86,
     "metadata": {},
     "output_type": "execute_result"
    }
   ],
   "source": [
    "# pour la classe 0 \n",
    "f(obs[0],mean[0,0],var[0,0])*f(obs[1],mean[0,0],var[0,0])*f(obs[2],mean[0,0],var[0,0])*f(obs[3],mean[0,0],var[0,0])*prior[0]"
   ]
  },
  {
   "cell_type": "code",
   "execution_count": 82,
   "metadata": {},
   "outputs": [
    {
     "data": {
      "text/plain": [
       "array([[5.006, 3.428, 1.462, 0.246],\n",
       "       [5.936, 2.77 , 4.26 , 1.326],\n",
       "       [6.588, 2.974, 5.552, 2.026]])"
      ]
     },
     "execution_count": 82,
     "metadata": {},
     "output_type": "execute_result"
    }
   ],
   "source": []
  },
  {
   "cell_type": "code",
   "execution_count": 83,
   "metadata": {},
   "outputs": [
    {
     "data": {
      "text/plain": [
       "array([[0.121764, 0.140816, 0.029556, 0.010884],\n",
       "       [0.261104, 0.0965  , 0.2164  , 0.038324],\n",
       "       [0.396256, 0.101924, 0.298496, 0.073924]])"
      ]
     },
     "execution_count": 83,
     "metadata": {},
     "output_type": "execute_result"
    }
   ],
   "source": [
    "var "
   ]
  },
  {
   "cell_type": "code",
   "execution_count": null,
   "metadata": {},
   "outputs": [],
   "source": []
  }
 ],
 "metadata": {
  "interpreter": {
   "hash": "ae728774eee256562aff2651c76309c3916f29437b55f618701e1f4834ebef1b"
  },
  "kernelspec": {
   "display_name": "Python 3.9.7 ('env_tensorflow')",
   "language": "python",
   "name": "python3"
  },
  "language_info": {
   "codemirror_mode": {
    "name": "ipython",
    "version": 3
   },
   "file_extension": ".py",
   "mimetype": "text/x-python",
   "name": "python",
   "nbconvert_exporter": "python",
   "pygments_lexer": "ipython3",
   "version": "3.9.7"
  },
  "orig_nbformat": 4
 },
 "nbformat": 4,
 "nbformat_minor": 2
}
