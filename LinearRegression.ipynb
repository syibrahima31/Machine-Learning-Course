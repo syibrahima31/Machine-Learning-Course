{
 "cells": [
  {
   "cell_type": "markdown",
   "id": "ad3a5e30-c7cf-488b-b90d-863d15c9e147",
   "metadata": {},
   "source": [
    "### Importation des packages "
   ]
  },
  {
   "cell_type": "code",
   "execution_count": null,
   "id": "5b63cd81-5924-4624-8e23-4447449d04b9",
   "metadata": {},
   "outputs": [],
   "source": [
    "import numpy as np \n",
    "import pandas as pd \n",
    "import matplotlib.pyplot as plt \n",
    "from  sklearn.datasets import make_regression"
   ]
  },
  {
   "cell_type": "markdown",
   "id": "2d5615de-f7a4-4b08-a2f3-ec387ee66561",
   "metadata": {},
   "source": [
    "### Création du dataset"
   ]
  },
  {
   "cell_type": "code",
   "execution_count": 53,
   "id": "b913ac11-5ad5-43a4-aa82-b272f173ae12",
   "metadata": {},
   "outputs": [],
   "source": [
    "X, y = make_regression(n_features=1, noise=15)"
   ]
  },
  {
   "cell_type": "code",
   "execution_count": 11,
   "id": "8f70746c-de8d-4a64-be2a-e6757365b7e1",
   "metadata": {},
   "outputs": [
    {
     "data": {
      "text/plain": [
       "<matplotlib.collections.PathCollection at 0x2843ba940>"
      ]
     },
     "execution_count": 11,
     "metadata": {},
     "output_type": "execute_result"
    },
    {
     "data": {
      "image/png": "[encoded data removed]",
      "text/plain": [
       "<Figure size 432x288 with 1 Axes>"
      ]
     },
     "metadata": {
      "needs_background": "light"
     },
     "output_type": "display_data"
    }
   ],
   "source": [
    "plt.scatter(X, y)"
   ]
  },
  {
   "cell_type": "code",
   "execution_count": 65,
   "id": "e6020a70-80ac-455a-91c6-7123f6cd8ce7",
   "metadata": {},
   "outputs": [],
   "source": [
    "class LinearRegression: \n",
    "    def __init__(self, lr=0.01 , n_iters = 100): \n",
    "        self.lr = lr \n",
    "        self.n_iters = n_iters \n",
    "        self.w0 = np.random.rand()\n",
    "        self.w1 = np.random.rand()\n",
    "    \n",
    "    def fit(self, X, y):\n",
    "        # recuperation des donnees \n",
    "        self.X = X \n",
    "        self.y = y \n",
    "        n_samples,  n_features = X.shape \n",
    "        \n",
    "        # \n",
    "        for _ in range(self.n_iters):\n",
    "            prediction = (self.w0 + self.w1*self.X).reshape(-1,)\n",
    "            dw0 = -2 * (1/n_samples)* (self.y - prediction).sum() \n",
    "            dw1 = -2 * (1/n_samples)* np.dot(self.X.reshape(-1,), (self.y - prediction))\n",
    "            self.w0 = self.w0 - lr * dw0 \n",
    "            self.w1 = self.w1 - lr * dw1 \n",
    "        return self.w0, self.w1 \n",
    "        "
   ]
  },
  {
   "cell_type": "code",
   "execution_count": 67,
   "id": "bad8d1e5-6442-4cb2-b0e7-ba99e977da9b",
   "metadata": {},
   "outputs": [],
   "source": [
    "model = LinearRegression()\n",
    "w0, w1 = model.fit(X, y)"
   ]
  },
  {
   "cell_type": "code",
   "execution_count": 68,
   "id": "d2b74825-4b13-4d4b-aa86-f8c3174f0869",
   "metadata": {},
   "outputs": [],
   "source": [
    "def f(x): \n",
    "    return w0 + w1 * x "
   ]
  },
  {
   "cell_type": "code",
   "execution_count": 71,
   "id": "40eb74b1-c76d-47ee-b869-92905a1f7caf",
   "metadata": {},
   "outputs": [],
   "source": [
    "f = np.vectorize(f)"
   ]
  },
  {
   "cell_type": "code",
   "execution_count": 73,
   "id": "1e0eb6d6-8d13-4aac-9c36-0b288c74cc5f",
   "metadata": {},
   "outputs": [],
   "source": [
    "prediction = f(X)"
   ]
  },
  {
   "cell_type": "code",
   "execution_count": 44,
   "id": "5b7cefcd-dbe8-4038-9461-e75b0c1f54ef",
   "metadata": {},
   "outputs": [
    {
     "data": {
      "text/plain": [
       "13"
      ]
     },
     "execution_count": 44,
     "metadata": {},
     "output_type": "execute_result"
    }
   ],
   "source": [
    "4+9"
   ]
  },
  {
   "cell_type": "code",
   "execution_count": 76,
   "id": "261956b3-cb6a-41bd-881f-ff62dfc41bbb",
   "metadata": {},
   "outputs": [
    {
     "data": {
      "text/plain": [
       "[<matplotlib.lines.Line2D at 0x2854e9a30>]"
      ]
     },
     "execution_count": 76,
     "metadata": {},
     "output_type": "execute_result"
    },
    {
     "data": {
      "image/png": "[encoded data removed]",
      "text/plain": [
       "<Figure size 432x288 with 1 Axes>"
      ]
     },
     "metadata": {
      "needs_background": "light"
     },
     "output_type": "display_data"
    }
   ],
   "source": [
    "plt.scatter(X, y)\n",
    "plt.plot(X, prediction, c= \"r\")"
   ]
  },
  {
   "cell_type": "code",
   "execution_count": null,
   "id": "71975f58-25bf-4e22-acc6-2928f1a4e3cc",
   "metadata": {},
   "outputs": [],
   "source": [
    "£"
   ]
  }
 ],
 "metadata": {
  "kernelspec": {
   "display_name": "Python 3 (ipykernel)",
   "language": "python",
   "name": "python3"
  },
  "language_info": {
   "codemirror_mode": {
    "name": "ipython",
    "version": 3
   },
   "file_extension": ".py",
   "mimetype": "text/x-python",
   "name": "python",
   "nbconvert_exporter": "python",
   "pygments_lexer": "ipython3",
   "version": "3.9.7"
  }
 },
 "nbformat": 4,
 "nbformat_minor": 5
}
