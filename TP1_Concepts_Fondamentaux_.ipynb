{
  "nbformat": 4,
  "nbformat_minor": 0,
  "metadata": {
    "colab": {
      "name": "TP1  : Concepts Fondamentaux .ipynb",
      "provenance": [],
      "authorship_tag": "ABX9TyOQgFpZ42yFHtN/ssiynmYU",
      "include_colab_link": true
    },
    "kernelspec": {
      "name": "python3",
      "display_name": "Python 3"
    }
  },
  "cells": [
    {
      "cell_type": "markdown",
      "metadata": {
        "id": "view-in-github",
        "colab_type": "text"
      },
      "source": [
        "<a href=\"https://colab.research.google.com/github/syibrahima31/Machine-Learning-Course/blob/main/TP1_Concepts_Fondamentaux_.ipynb\" target=\"_parent\"><img src=\"https://colab.research.google.com/assets/colab-badge.svg\" alt=\"Open In Colab\"/></a>"
      ]
    },
    {
      "cell_type": "markdown",
      "metadata": {
        "id": "qqbDfqzwDv_y"
      },
      "source": [
        "## REGRESSION POLYNOMIALE\n",
        "La régression polynomiale est une forme d’analyse de régression dans laquelle la relation entre la variable explicative et la variable expliquée est  modélisée comme un **polynôme**.\n",
        "\n",
        "$$ y = a_0 + a_1 x^1 + a_2 x^2 + \\dots + a_N x^N$$\n",
        "\n",
        "- $y$  est la vahriable a explique \n",
        "\n",
        "- $x$ est la variable explicative \n",
        "\n",
        "- $N$ est le  dégré du polynôme\n",
        "\n",
        "- $(a_i)_{i= 1, \\dots, N}$ les coefficients du polynôme\n",
        "\n",
        " qu'on doit chercher\n",
        "\n"
      ]
    },
    {
      "cell_type": "markdown",
      "metadata": {
        "id": "lLiLvtGEMlTb"
      },
      "source": [
        "#####  1.IMPORTER  LES MODULES NECESSAIRE POUR CREATION D'UN MODELE"
      ]
    },
    {
      "cell_type": "code",
      "metadata": {
        "id": "jfr8FhAMLBLv"
      },
      "source": [
        "#IMPORTER LES MODULES POUR CREER LE MODELE POLYNOMIAL REGRESSION \n",
        "\n",
        "import numpy as np \n",
        "import matplotlib.pyplot as plt \n",
        "import pandas as pd \n",
        "from sklearn.datasets import make_regression\n",
        "from sklearn.preprocessing import PolynomialFeatures\n",
        "from sklearn.model_selection import train_test_split\n",
        "from sklearn.linear_model import LinearRegression"
      ],
      "execution_count": 63,
      "outputs": []
    },
    {
      "cell_type": "markdown",
      "metadata": {
        "id": "F-6pkf3oVeBv"
      },
      "source": [
        "##### 2. CREATION DE NOTRE DATASET "
      ]
    },
    {
      "cell_type": "code",
      "metadata": {
        "colab": {
          "base_uri": "https://localhost:8080/"
        },
        "id": "63lcBTrTGZcC",
        "outputId": "d91a6605-d332-41db-cb99-82f9b0ef2a22"
      },
      "source": [
        "## la fonction pd.read_csv permet de import la base de donnes base.csv\n",
        "data = pd.read_csv(\"base.csv\", sep=\";\")\n",
        "\n",
        "print(f\"la base de donnees a {data.shape[0]} lignes et {data.shape[1] } colones \")\n",
        "\n",
        "X = data.iloc[:,0].values\n",
        "y = data.iloc[:,1].values \n",
        "\n",
        "## Creation de la base entrainement et de test \n",
        "\n",
        "x_train, x_test, y_train , y_test = train_test_split(X, y, test_size=0.1, random_state=42)\n",
        "\n",
        "x_train = x_train.reshape(-1,1)\n",
        "x_test  = x_test.reshape(-1,1)\n",
        "y_train = y_train.reshape(-1,1)\n",
        "y_test = y_test.reshape(-1,1)\n"
      ],
      "execution_count": 64,
      "outputs": [
        {
          "output_type": "stream",
          "text": [
            "la base de donnees a 71 lignes et 2 colones \n"
          ],
          "name": "stdout"
        }
      ]
    },
    {
      "cell_type": "markdown",
      "metadata": {
        "id": "JBcvrK1Nhh_Y"
      },
      "source": [
        "##### 3. CREATION DU MODLE \n",
        "\n",
        "> pour notre modele  nous allons utiliser la librairie **scikit learn** , la mise oeuvre du modele se fera en deux etapes  :\n",
        "- la creation des variable selon e degre du polynome \n",
        "-  Ensuite l'utilisation de la classe **LinearRegression** cette classe sera detaille dans le chapitre deux pour l' instatnt il sera utilise juste pour construire notre modele de regression Polynomiale \n",
        "\n"
      ]
    },
    {
      "cell_type": "code",
      "metadata": {
        "colab": {
          "base_uri": "https://localhost:8080/"
        },
        "id": "ImGlTZ-TVbiS",
        "outputId": "00b30531-fc5f-40d2-d530-ff7056b00b1b"
      },
      "source": [
        "# Creation d'un modele de regression polynomiale de dregre \n",
        "poly = PolynomialFeatures(degree= 4 )\n",
        "x_pol = poly.fit_transform(x_train)\n",
        "\n",
        "# on cree le model de regression polynomiale en utilisant LinerRegression\n",
        "\n",
        "model = LinearRegression()\n",
        "model.fit(x_pol, y_train)\n",
        "\n",
        "\n",
        "model.score(poly.fit_transform(x_test), y_test)\n"
      ],
      "execution_count": 70,
      "outputs": [
        {
          "output_type": "execute_result",
          "data": {
            "text/plain": [
              "-2.5153558606796325"
            ]
          },
          "metadata": {
            "tags": []
          },
          "execution_count": 70
        }
      ]
    },
    {
      "cell_type": "markdown",
      "metadata": {
        "id": "M2cDZucADx5P"
      },
      "source": [
        ""
      ]
    },
    {
      "cell_type": "code",
      "metadata": {
        "id": "2bC976mnGhji"
      },
      "source": [
        ""
      ],
      "execution_count": null,
      "outputs": []
    }
  ]
}