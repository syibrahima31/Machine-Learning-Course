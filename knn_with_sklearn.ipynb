{
 "cells": [
  {
   "cell_type": "markdown",
   "id": "fc72068b-c972-4ce0-8dba-b24a5b76d799",
   "metadata": {},
   "source": [
    "# Classification avec Knn "
   ]
  },
  {
   "cell_type": "markdown",
   "id": "432dc221-62bc-436f-9397-e51439d6f87e",
   "metadata": {},
   "source": [
    "###### IMPORTATION DE PACKAGES "
   ]
  },
  {
   "cell_type": "code",
   "execution_count": 14,
   "id": "7b882ac2-5fb2-44f0-9819-862e08035f54",
   "metadata": {},
   "outputs": [],
   "source": [
    "import numpy as np \n",
    "import pandas as pd \n",
    "import matplotlib.pyplot as plt\n",
    "import seaborn as sns \n",
    "from sklearn.neighbors import KNeighborsClassifier\n",
    "from sklearn.model_selection import GridSearchCV, train_test_split, cross_val_score,validation_curve"
   ]
  },
  {
   "cell_type": "markdown",
   "id": "ce35b3b8-c4f4-4c2b-99e8-3cc23d34ea1d",
   "metadata": {},
   "source": [
    "###### CHARGEMENT DES DONNEES "
   ]
  },
  {
   "cell_type": "code",
   "execution_count": 2,
   "id": "0b10a774-7d57-41db-86e4-b7df2a5d89e4",
   "metadata": {},
   "outputs": [
    {
     "data": {
      "text/html": [
       "<div>\n",
       "<style scoped>\n",
       "    .dataframe tbody tr th:only-of-type {\n",
       "        vertical-align: middle;\n",
       "    }\n",
       "\n",
       "    .dataframe tbody tr th {\n",
       "        vertical-align: top;\n",
       "    }\n",
       "\n",
       "    .dataframe thead th {\n",
       "        text-align: right;\n",
       "    }\n",
       "</style>\n",
       "<table border=\"1\" class=\"dataframe\">\n",
       "  <thead>\n",
       "    <tr style=\"text-align: right;\">\n",
       "      <th></th>\n",
       "      <th>sepal_length</th>\n",
       "      <th>sepal_width</th>\n",
       "      <th>petal_length</th>\n",
       "      <th>petal_width</th>\n",
       "      <th>species</th>\n",
       "    </tr>\n",
       "  </thead>\n",
       "  <tbody>\n",
       "    <tr>\n",
       "      <th>0</th>\n",
       "      <td>5.1</td>\n",
       "      <td>3.5</td>\n",
       "      <td>1.4</td>\n",
       "      <td>0.2</td>\n",
       "      <td>setosa</td>\n",
       "    </tr>\n",
       "    <tr>\n",
       "      <th>1</th>\n",
       "      <td>4.9</td>\n",
       "      <td>3.0</td>\n",
       "      <td>1.4</td>\n",
       "      <td>0.2</td>\n",
       "      <td>setosa</td>\n",
       "    </tr>\n",
       "    <tr>\n",
       "      <th>2</th>\n",
       "      <td>4.7</td>\n",
       "      <td>3.2</td>\n",
       "      <td>1.3</td>\n",
       "      <td>0.2</td>\n",
       "      <td>setosa</td>\n",
       "    </tr>\n",
       "    <tr>\n",
       "      <th>3</th>\n",
       "      <td>4.6</td>\n",
       "      <td>3.1</td>\n",
       "      <td>1.5</td>\n",
       "      <td>0.2</td>\n",
       "      <td>setosa</td>\n",
       "    </tr>\n",
       "    <tr>\n",
       "      <th>4</th>\n",
       "      <td>5.0</td>\n",
       "      <td>3.6</td>\n",
       "      <td>1.4</td>\n",
       "      <td>0.2</td>\n",
       "      <td>setosa</td>\n",
       "    </tr>\n",
       "  </tbody>\n",
       "</table>\n",
       "</div>"
      ],
      "text/plain": [
       "   sepal_length  sepal_width  petal_length  petal_width species\n",
       "0           5.1          3.5           1.4          0.2  setosa\n",
       "1           4.9          3.0           1.4          0.2  setosa\n",
       "2           4.7          3.2           1.3          0.2  setosa\n",
       "3           4.6          3.1           1.5          0.2  setosa\n",
       "4           5.0          3.6           1.4          0.2  setosa"
      ]
     },
     "execution_count": 2,
     "metadata": {},
     "output_type": "execute_result"
    }
   ],
   "source": [
    "df = sns.load_dataset(\"iris\")\n",
    "df.head()"
   ]
  },
  {
   "cell_type": "code",
   "execution_count": 3,
   "id": "c8868e0c-d5e4-4a62-9c69-0bb1ba522524",
   "metadata": {},
   "outputs": [
    {
     "data": {
      "text/plain": [
       "0    setosa\n",
       "1    setosa\n",
       "2    setosa\n",
       "3    setosa\n",
       "4    setosa\n",
       "Name: species, dtype: object"
      ]
     },
     "execution_count": 3,
     "metadata": {},
     "output_type": "execute_result"
    }
   ],
   "source": [
    "target_name = \"species\"\n",
    "\n",
    "data = df.drop(columns=[target_name], axis=1)\n",
    "target = df.loc[ : ,target_name]\n",
    "\n",
    "target.head()"
   ]
  },
  {
   "cell_type": "markdown",
   "id": "9608edad-dd81-49eb-84bb-6a4256ca38c6",
   "metadata": {},
   "source": [
    "###### SPERATION DU JEU DE DONNEE "
   ]
  },
  {
   "cell_type": "code",
   "execution_count": 4,
   "id": "e8972f71-9340-4e0b-83fa-01465fa9021d",
   "metadata": {},
   "outputs": [],
   "source": [
    "X_train, X_test, y_train, y_test = train_test_split(data, target, train_size= 0.8, random_state=123)"
   ]
  },
  {
   "cell_type": "markdown",
   "id": "a0227cf9-31a0-43d0-9e93-47f120b206c8",
   "metadata": {},
   "source": [
    "###### MODEL DE BASE "
   ]
  },
  {
   "cell_type": "markdown",
   "id": "5251dff9-fabe-409a-ac38-45721fdfbb1a",
   "metadata": {},
   "source": [
    "##### CHOIX DES HYPERPARAMETRES "
   ]
  },
  {
   "cell_type": "code",
   "execution_count": 5,
   "id": "b481908e-5055-4a8e-8322-a3125738a7f7",
   "metadata": {},
   "outputs": [
    {
     "data": {
      "text/plain": [
       "0.9666666666666667"
      ]
     },
     "execution_count": 5,
     "metadata": {},
     "output_type": "execute_result"
    }
   ],
   "source": [
    "model = KNeighborsClassifier()\n",
    "model.fit(X_train, y_train)\n",
    "\n",
    "# erreur de g\n",
    "pred = model.predict(X_test)\n",
    "\n",
    "model.score(X_test, y_test)"
   ]
  },
  {
   "cell_type": "markdown",
   "id": "3b85c664-f6c2-4642-92d3-5a9787308394",
   "metadata": {},
   "source": [
    "- `cross_val_score` "
   ]
  },
  {
   "cell_type": "code",
   "execution_count": 6,
   "id": "2d6503c2-8d20-4d40-a23b-78aaf5b1a98c",
   "metadata": {},
   "outputs": [],
   "source": [
    "k_plage = np.arange(1, 40)\n",
    "L_val = []\n",
    "\n",
    "for i in k_plage:\n",
    "    acc_val = cross_val_score(KNeighborsClassifier(n_neighbors= i ), X = X_train, y = y_train, cv= 4 ).mean()\n",
    "    L_val.append(acc_val)\n",
    "L_val = np.array(L_val)"
   ]
  },
  {
   "cell_type": "code",
   "execution_count": 7,
   "id": "cda8e4f4-fde0-4d6f-b76e-276a73f5100f",
   "metadata": {},
   "outputs": [
    {
     "data": {
      "text/plain": [
       "Text(0, 0.5, 'accuracy validation ')"
      ]
     },
     "execution_count": 7,
     "metadata": {},
     "output_type": "execute_result"
    },
    {
     "data": {
      "image/png": "[encoded data removed]",
      "text/plain": [
       "<Figure size 432x288 with 1 Axes>"
      ]
     },
     "metadata": {
      "needs_background": "light"
     },
     "output_type": "display_data"
    }
   ],
   "source": [
    "plt.plot(k_plage, L_val )\n",
    "plt.xlabel(\"n_neighbors\")\n",
    "plt.ylabel(\"accuracy validation \")"
   ]
  },
  {
   "cell_type": "code",
   "execution_count": 8,
   "id": "eae3475c-3a57-4b79-9da3-8410056c5b74",
   "metadata": {},
   "outputs": [
    {
     "data": {
      "text/plain": [
       "0.9750000000000001"
      ]
     },
     "execution_count": 8,
     "metadata": {},
     "output_type": "execute_result"
    }
   ],
   "source": [
    "L_val[np.argmax(L_val)]"
   ]
  },
  {
   "cell_type": "code",
   "execution_count": 9,
   "id": "649cf045-c4ed-4536-8f59-a5824df940c6",
   "metadata": {},
   "outputs": [
    {
     "data": {
      "text/plain": [
       "7"
      ]
     },
     "execution_count": 9,
     "metadata": {},
     "output_type": "execute_result"
    }
   ],
   "source": [
    "best_k = np.arange(1, 40)[np.argmax(L_val)]\n",
    "best_k"
   ]
  },
  {
   "cell_type": "code",
   "execution_count": 10,
   "id": "3f9c2b86-6fc4-4d6b-84bc-25b471ac5d6f",
   "metadata": {},
   "outputs": [
    {
     "data": {
      "text/plain": [
       "0.9333333333333333"
      ]
     },
     "execution_count": 10,
     "metadata": {},
     "output_type": "execute_result"
    }
   ],
   "source": [
    "model = KNeighborsClassifier(n_neighbors=best_k)\n",
    "model.fit(X_train, y_train)\n",
    "model.score(X_test, y_test) "
   ]
  },
  {
   "cell_type": "markdown",
   "id": "1f887f0d-b346-414b-96a5-c9c312383d83",
   "metadata": {},
   "source": [
    "- Avec `validation_curve`"
   ]
  },
  {
   "cell_type": "code",
   "execution_count": 11,
   "id": "a6edd6bf-4037-4ff4-ad09-9e84e5ea29a3",
   "metadata": {},
   "outputs": [],
   "source": [
    "train_acc , val_acc = validation_curve(KNeighborsClassifier(), X = X_train, y=y_train,\n",
    "                 param_name=\"n_neighbors\", param_range=np.arange(1, 40), cv= 4)\n",
    "\n"
   ]
  },
  {
   "cell_type": "code",
   "execution_count": 12,
   "id": "3ad30b56-1d81-4148-ab22-f2a5e3d8cbda",
   "metadata": {},
   "outputs": [
    {
     "data": {
      "text/plain": [
       "<matplotlib.legend.Legend at 0x17e6d2f70>"
      ]
     },
     "execution_count": 12,
     "metadata": {},
     "output_type": "execute_result"
    },
    {
     "data": {
      "image/png": "[encoded data removed]",
      "text/plain": [
       "<Figure size 432x288 with 1 Axes>"
      ]
     },
     "metadata": {
      "needs_background": "light"
     },
     "output_type": "display_data"
    }
   ],
   "source": [
    "plt.figure()\n",
    "plt.plot(np.arange(1, 40), val_acc.mean(axis=1), label = \"accuracy validation\")\n",
    "plt.plot(np.arange(1, 40), train_acc.mean(axis=1), label = \"accuracy train\")\n",
    "plt.xlabel(\"n_neighbors\")\n",
    "plt.ylabel(\"accuracy\")\n",
    "plt.legend()"
   ]
  },
  {
   "cell_type": "markdown",
   "id": "0a34a985-6df8-415b-960f-6c0591538e0c",
   "metadata": {},
   "source": [
    "- `GridSearchcv` : Autre méthode pour faire la faire une selection hyperparameétres de façon beaucoup générale "
   ]
  },
  {
   "cell_type": "code",
   "execution_count": 27,
   "id": "28dff289-b2c3-4ae9-9f2a-19246d7e4559",
   "metadata": {},
   "outputs": [],
   "source": [
    "param_grid = {\n",
    " 'n_neighbors': np.arange(1,30),\n",
    " 'p': np.arange(1, 40)\n",
    "}\n"
   ]
  },
  {
   "cell_type": "code",
   "execution_count": 28,
   "id": "39a2be23-32e8-437d-8d11-65eaa50df901",
   "metadata": {},
   "outputs": [],
   "source": [
    "grid = GridSearchCV(KNeighborsClassifier(),param_grid=param_grid, cv= 5)\n",
    "_ = grid.fit(X_train, y_train)"
   ]
  },
  {
   "cell_type": "code",
   "execution_count": 32,
   "id": "02aa5070-5fc2-454d-9f75-103b7a0bb92f",
   "metadata": {
    "tags": []
   },
   "outputs": [],
   "source": [
    "model = grid.best_estimator_"
   ]
  },
  {
   "cell_type": "code",
   "execution_count": 35,
   "id": "594854dc-be10-4055-865c-b9811006ff00",
   "metadata": {},
   "outputs": [
    {
     "data": {
      "text/plain": [
       "0.9666666666666667"
      ]
     },
     "execution_count": 35,
     "metadata": {},
     "output_type": "execute_result"
    }
   ],
   "source": [
    "model.score(X_test, y_test) "
   ]
  },
  {
   "cell_type": "code",
   "execution_count": null,
   "id": "e7e71792-e374-482c-9c55-d839376e3e61",
   "metadata": {},
   "outputs": [],
   "source": []
  }
 ],
 "metadata": {
  "kernelspec": {
   "display_name": "Python 3 (ipykernel)",
   "language": "python",
   "name": "python3"
  },
  "language_info": {
   "codemirror_mode": {
    "name": "ipython",
    "version": 3
   },
   "file_extension": ".py",
   "mimetype": "text/x-python",
   "name": "python",
   "nbconvert_exporter": "python",
   "pygments_lexer": "ipython3",
   "version": "3.9.7"
  }
 },
 "nbformat": 4,
 "nbformat_minor": 5
}
