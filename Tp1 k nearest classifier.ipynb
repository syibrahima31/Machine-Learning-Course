{
  "cells": [
    {
      "cell_type": "markdown",
      "metadata": {
        "colab_type": "text",
        "id": "view-in-github"
      },
      "source": [
        "<a href=\"https://colab.research.google.com/github/syibrahima31/Machine-Learning-Course/blob/main/Tp1%20k%20nearest%20classifier.ipynb\" target=\"_parent\"><img src=\"https://colab.research.google.com/assets/colab-badge.svg\" alt=\"Open In Colab\"/></a>"
      ]
    },
    {
      "cell_type": "markdown",
      "metadata": {
        "id": "-6YbEtZEjB3Q"
      },
      "source": [
        "# TP 1: K Nearest neighbors classifier "
      ]
    },
    {
      "cell_type": "markdown",
      "metadata": {
        "id": "W-XTksIQjQgc"
      },
      "source": [
        "# 1. Importation des packages librairies  pour le déroulement de ce TP "
      ]
    },
    {
      "cell_type": "code",
      "execution_count": 25,
      "metadata": {
        "id": "baqBXMh0jAXf"
      },
      "outputs": [],
      "source": [
        " import numpy as np \n",
        " import pandas as pd\n",
        " import matplotlib.pyplot as plt \n",
        " from sklearn.model_selection import train_test_split , cross_val_score , validation_curve , GridSearchCV\n",
        " from sklearn.preprocessing import StandardScaler \n",
        " from sklearn.neighbors import KNeighborsClassifier\n",
        " from seaborn import load_dataset"
      ]
    },
    {
      "cell_type": "markdown",
      "metadata": {
        "id": "ds2p8UigkicS"
      },
      "source": [
        "## 2. Chargemnent du Dataset \n",
        "\n",
        "Dans cette section nous allons effectuer les étapes suivantes :\n",
        "\n",
        "-  importer la fonction  `load_dataset` de la  librairie `seaborn` pour charger le dataset des fleurs d'iris\n",
        "\n",
        "- Utiliser la fonction `train_test_split` pour procéder á la découpage de notre dataste \n",
        "\n",
        "- Normaliser le dataset en utilisant la classe `StandardScaler `\n"
      ]
    },
    {
      "cell_type": "code",
      "execution_count": 71,
      "metadata": {
        "id": "JYs4jjQsj0Pt"
      },
      "outputs": [],
      "source": [
        "data = load_dataset(\"iris\")\n",
        "\n",
        "X = data.drop(columns='species')\n",
        "y = data.species \n",
        "\n",
        "X_train , X_test , y_train, y_test = train_test_split(X, y , test_size = 0.2 , random_state = 1234)\n",
        "\n",
        "# normaliser le train et le test set \n",
        "scaler  = StandardScaler()\n",
        "X_train = scaler.fit_transform(X_train)\n",
        "X_test  = scaler.fit_transform(X_test)"
      ]
    },
    {
      "cell_type": "markdown",
      "metadata": {
        "id": "m6SYZJv_vuj9"
      },
      "source": [
        "# 3. Création de notre Premier model de Machine Learning "
      ]
    },
    {
      "cell_type": "code",
      "execution_count": 72,
      "metadata": {
        "colab": {
          "base_uri": "https://localhost:8080/",
          "height": 129
        },
        "id": "iWknHlQxmXWW",
        "outputId": "41b0118d-84d4-45c4-8fb5-b0ad7f4e88a8"
      },
      "outputs": [
        {
          "ename": "SyntaxError",
          "evalue": "ignored",
          "output_type": "error",
          "traceback": [
            "\u001b[0;36m  File \u001b[0;32m\"<ipython-input-72-5cab452e3465>\"\u001b[0;36m, line \u001b[0;32m3\u001b[0m\n\u001b[0;31m    model.score(X_train, y_train)\u001b[0m\n\u001b[0m        ^\u001b[0m\n\u001b[0;31mSyntaxError\u001b[0m\u001b[0;31m:\u001b[0m invalid syntax\n"
          ]
        }
      ],
      "source": [
        "model = KNeighborsClassifier()\n",
        "model.fit(X_train, y_train)\n",
        "model.score(X_train, y_train)\n",
        "# model.score(X_test, y_test)\n"
      ]
    },
    {
      "cell_type": "markdown",
      "metadata": {
        "id": "tsLIKoSBwCJ6"
      },
      "source": [
        "# 4. Utilisation de la validation de pour améliorer le model \n",
        "###  Premier Méthode : utilisation de fonction `cross_val_score`\n",
        "-----------------------------------------------------------------"
      ]
    },
    {
      "cell_type": "code",
      "execution_count": 73,
      "metadata": {
        "id": "TWZdHYtYrxuv"
      },
      "outputs": [],
      "source": [
        "L = []\n",
        "for k in range(2, 50):\n",
        "  val_score = cross_val_score(KNeighborsClassifier(k), X_train, y_train, cv = 5).mean()\n",
        "  L.append(val_score)\n",
        "\n"
      ]
    },
    {
      "cell_type": "code",
      "execution_count": 74,
      "metadata": {
        "colab": {
          "base_uri": "https://localhost:8080/",
          "height": 282
        },
        "id": "zcEpOVVSuBgZ",
        "outputId": "15717add-5b59-49b4-efab-0d1466b08cf8"
      },
      "outputs": [
        {
          "data": {
            "text/plain": [
              "<matplotlib.legend.Legend at 0x7ff037980390>"
            ]
          },
          "execution_count": 74,
          "metadata": {
            "tags": []
          },
          "output_type": "execute_result"
        },
        {
          "data": {
            "image/png": "[encoded data removed]",
            "text/plain": [
              "<Figure size 432x288 with 1 Axes>"
            ]
          },
          "metadata": {
            "needs_background": "light",
            "tags": []
          },
          "output_type": "display_data"
        }
      ],
      "source": [
        "plt.figure()\n",
        "\n",
        "plt.plot(range(2,50), L, label = \"val score\")\n",
        "plt.legend()"
      ]
    },
    {
      "cell_type": "markdown",
      "metadata": {
        "id": "60N__DxtxA44"
      },
      "source": [
        "## Second  méthode : utilisation de validation_curve\n",
        "-----------------------------------------"
      ]
    },
    {
      "cell_type": "code",
      "execution_count": 75,
      "metadata": {
        "id": "rPWD6D26uWpO"
      },
      "outputs": [],
      "source": [
        "k = np.arange(2, 50)\n",
        "train_score, test_score = validation_curve(KNeighborsClassifier(), X, y, \"n_neighbors\",k, cv = 4)\n"
      ]
    },
    {
      "cell_type": "code",
      "execution_count": 76,
      "metadata": {
        "id": "_1fE1MS2usm0"
      },
      "outputs": [],
      "source": [
        "L = test_score.mean(axis = 1)"
      ]
    },
    {
      "cell_type": "code",
      "execution_count": 77,
      "metadata": {
        "colab": {
          "base_uri": "https://localhost:8080/",
          "height": 282
        },
        "id": "dD_8oZ2zyT3K",
        "outputId": "97b5a678-23bd-4afd-a905-4b37ce07ec26"
      },
      "outputs": [
        {
          "data": {
            "text/plain": [
              "[<matplotlib.lines.Line2D at 0x7ff0378d4e10>]"
            ]
          },
          "execution_count": 77,
          "metadata": {
            "tags": []
          },
          "output_type": "execute_result"
        },
        {
          "data": {
            "image/png": "[encoded data removed]",
            "text/plain": [
              "<Figure size 432x288 with 1 Axes>"
            ]
          },
          "metadata": {
            "needs_background": "light",
            "tags": []
          },
          "output_type": "display_data"
        }
      ],
      "source": [
        "plt.plot(range(2,50), L)"
      ]
    },
    {
      "cell_type": "markdown",
      "metadata": {
        "id": "kcnMMIkY1-wl"
      },
      "source": [
        "## 3.troisiéme méthode : GridSearchCV"
      ]
    },
    {
      "cell_type": "code",
      "execution_count": 78,
      "metadata": {
        "colab": {
          "base_uri": "https://localhost:8080/"
        },
        "id": "mcM0GSLozUf9",
        "outputId": "3d621fa0-c886-4d40-9321-9f91d85e9391"
      },
      "outputs": [
        {
          "data": {
            "text/plain": [
              "GridSearchCV(cv=5, error_score=nan,\n",
              "             estimator=KNeighborsClassifier(algorithm='auto', leaf_size=30,\n",
              "                                            metric='minkowski',\n",
              "                                            metric_params=None, n_jobs=None,\n",
              "                                            n_neighbors=5, p=2,\n",
              "                                            weights='uniform'),\n",
              "             iid='deprecated', n_jobs=None,\n",
              "             param_grid={'metric': ['minkowski', 'manhattan'],\n",
              "                         'n_neighbors': array([ 1,  2,  3,  4,  5,  6,  7,  8,  9, 10, 11, 12, 13, 14, 15, 16, 17,\n",
              "       18, 19, 20, 21, 22, 23, 24, 25, 26, 27, 28, 29, 30, 31, 32, 33, 34,\n",
              "       35, 36, 37, 38, 39, 40, 41, 42, 43, 44, 45, 46, 47, 48, 49])},\n",
              "             pre_dispatch='2*n_jobs', refit=True, return_train_score=False,\n",
              "             scoring=None, verbose=0)"
            ]
          },
          "execution_count": 78,
          "metadata": {
            "tags": []
          },
          "output_type": "execute_result"
        }
      ],
      "source": [
        "param_grid = {\n",
        "    \"n_neighbors\": np.arange(1,50), \n",
        "    \"metric\" : [\"minkowski\", \"manhattan\"]\n",
        "}\n",
        "\n",
        "grid = GridSearchCV(KNeighborsClassifier(), param_grid= param_grid, cv = 5)\n",
        "grid.fit(X_train, y_train)\n"
      ]
    },
    {
      "cell_type": "code",
      "execution_count": 79,
      "metadata": {
        "colab": {
          "base_uri": "https://localhost:8080/"
        },
        "id": "QmafMYUH5KY3",
        "outputId": "30e6052f-7c18-48e1-ad2a-d4c78bfef917"
      },
      "outputs": [
        {
          "data": {
            "text/plain": [
              "{'metric': 'manhattan', 'n_neighbors': 12}"
            ]
          },
          "execution_count": 79,
          "metadata": {
            "tags": []
          },
          "output_type": "execute_result"
        }
      ],
      "source": [
        "grid.best_params_"
      ]
    },
    {
      "cell_type": "code",
      "execution_count": 80,
      "metadata": {
        "id": "LWQHoeEo5yzS"
      },
      "outputs": [],
      "source": [
        "model = grid.best_estimator_"
      ]
    },
    {
      "cell_type": "code",
      "execution_count": 83,
      "metadata": {
        "colab": {
          "base_uri": "https://localhost:8080/"
        },
        "id": "afqAqRaa53U8",
        "outputId": "a9069558-7410-4da1-8b9e-4b856d8b7f7d"
      },
      "outputs": [
        {
          "data": {
            "text/plain": [
              "1.0"
            ]
          },
          "execution_count": 83,
          "metadata": {
            "tags": []
          },
          "output_type": "execute_result"
        }
      ],
      "source": [
        "model.score(X_test,  y_test)"
      ]
    },
    {
      "cell_type": "code",
      "execution_count": 81,
      "metadata": {
        "id": "DrSJ9urq54YZ"
      },
      "outputs": [],
      "source": []
    }
  ],
  "metadata": {
    "colab": {
      "authorship_tag": "ABX9TyNRCwRS7Gf80OmQB1REmTfh",
      "include_colab_link": true,
      "name": "Untitled15.ipynb",
      "provenance": []
    },
    "kernelspec": {
      "display_name": "Python 3",
      "name": "python3"
    },
    "language_info": {
      "name": "python"
    }
  },
  "nbformat": 4,
  "nbformat_minor": 0
}
