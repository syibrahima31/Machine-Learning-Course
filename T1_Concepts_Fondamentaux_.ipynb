{
  "nbformat": 4,
  "nbformat_minor": 0,
  "metadata": {
    "colab": {
      "name": "T1 :Concepts Fondamentaux .ipynb",
      "provenance": [],
      "toc_visible": true,
      "authorship_tag": "ABX9TyP9yI+h0VB4ENuUNpzgluIP",
      "include_colab_link": true
    },
    "kernelspec": {
      "name": "python3",
      "display_name": "Python 3"
    }
  },
  "cells": [
    {
      "cell_type": "markdown",
      "metadata": {
        "id": "view-in-github",
        "colab_type": "text"
      },
      "source": [
        "<a href=\"https://colab.research.google.com/github/syibrahima31/Machine-Learning-Course/blob/main/T1_Concepts_Fondamentaux_.ipynb\" target=\"_parent\"><img src=\"https://colab.research.google.com/assets/colab-badge.svg\" alt=\"Open In Colab\"/></a>"
      ]
    },
    {
      "cell_type": "markdown",
      "metadata": {
        "id": "qqbDfqzwDv_y"
      },
      "source": [
        "## REGRESSION POLYNOMIALE\n",
        "La régression polynomiale est une forme d’analyse de régression dans laquelle la relation entre la variable explicative et la variable expliquée est  modélisée comme un **polynôme**.\n",
        "\n",
        "$$ y = a_0 + a_1 x^1 + a_2 x^2 + \\dots + a_N x^N$$\n",
        "\n",
        "- $y$  est la vahriable a explique \n",
        "\n",
        "- $x$ est la variable explicative \n",
        "\n",
        "- $N$ est le  dégré du polynôme\n",
        "\n",
        "- $(a_i)_{i= 1, \\dots, N}$ les coefficients du polynôme\n",
        "\n",
        " qu'on doit chercher\n",
        "\n"
      ]
    },
    {
      "cell_type": "markdown",
      "metadata": {
        "id": "lLiLvtGEMlTb"
      },
      "source": [
        "#####  1.IMPORTER  LES MODULES NECESSAIRE POUR CREATION D'UN MODELE"
      ]
    },
    {
      "cell_type": "code",
      "metadata": {
        "id": "jfr8FhAMLBLv"
      },
      "source": [
        "#IMPORTER LES MODULES POUR CREER LE MODELE POLYNOMIAL REGRESSION \n",
        "\n",
        "import numpy as np \n",
        "import matplotlib.pyplot as plt \n",
        "import pandas as pd "
      ],
      "execution_count": 2,
      "outputs": []
    },
    {
      "cell_type": "code",
      "metadata": {
        "id": "63lcBTrTGZcC"
      },
      "source": [
        ""
      ],
      "execution_count": null,
      "outputs": []
    },
    {
      "cell_type": "markdown",
      "metadata": {
        "id": "M2cDZucADx5P"
      },
      "source": [
        ""
      ]
    },
    {
      "cell_type": "code",
      "metadata": {
        "id": "2bC976mnGhji"
      },
      "source": [
        ""
      ],
      "execution_count": null,
      "outputs": []
    }
  ]
}