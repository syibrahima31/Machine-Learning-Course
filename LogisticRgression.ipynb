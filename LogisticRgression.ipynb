{
 "cells": [
  {
   "cell_type": "markdown",
   "metadata": {},
   "source": [
    "##  Régression logistique\n",
    "\n",
    "La régression logistique est utilisée pour le classement et pas la régression.\n",
    "Mais, elle est considéré comme une méthode de régression puisqu'elle sert à estimer la probabilité d'appartenir à une classe.\n",
    "Il y a trois types de régression logistique:\n",
    "- **Régression logistique binaire**: ici, le but de la classification est d'identifier si un échantillon appartient à une classe ou non.\n",
    "- **Régression logistique multinomiale**: ici, le but de la classification est d'identifier à quelle classe appartient-t-il un échantillon parmi plusieurs classes.\n",
    "- **Régression logistique ordinale**: ici, le but de la classification est de chercher la classe d'un échantillon parmi des classes ordonnées. Un exemple de classes: non satisfait, satisfait, très sataisfait.\n",
    "\n",
    "### 1-  Principe\n",
    "\n",
    "Pour combiner entre les différentes caractéristiques, on utilise une fonction linéaire (exactement comme la régression linéaire):\n",
    "\n",
    "$$h_{w}(x) = w_0 + w_1 x_1 + w_2 x_2 + \\dots+ w_p x_p$$\n",
    "\n",
    "Cette valeur est transformée à une probabilité en utilisant la fonction logistique.\n",
    "Donc, la probabilité qu'un échantillon avec les caractéristiques *x_1, \\dots , x_p* appartienne à une classe *y_i* est calculée comme suit:\n",
    "\n",
    "$$ \\mathbb{p}(y=1|x)= \\frac{1}{1+\\exp(-h_w(x))}$$\n",
    "\n",
    "\n",
    "### 2- La décision\n",
    "\n",
    "Pour prédire si un échantillon *x* appartient à une classe donnée (classe positive) *y=1*, on calcule sa probabilité en utilisant l'équation précédante.\n",
    "Ensuite, on utilise un seuil sur cette probabilité pour décider.\n",
    "\n",
    "On peut utiliser le seuil **0.5**. Dans ce cas:\n",
    "- Si $\\mathbb{p}(y=1|x)\\ge 0.5$ donc classe positive\n",
    "- Sinon classe négative\n",
    "\n",
    "En cas de  plusieurs classes, on utilise une stratégie de un-contre-le-reste.\n",
    "On entraine plusieurs classifieurs, chacun pour une classe.\n",
    "Pour décider quelle est la classe d'un échantillon, on prend celle avec la probabilité la plus élevée.\n",
    "\n",
    "### 3- La fonction du coût\n",
    "\n",
    "L'erreur quadratique moyenne (MSE) ne peut pas être utilisée comme dans la régression linéaire.\n",
    "Ceci est dû au fait que la fonction de prédiction est non linéaire.\n",
    "La fonction du coût va être non-convex avec plusieurs minimums locaux.\n",
    "Lors de la minimisation, on peut tomber sur un minimum local et l'algorithme du gradient va s'arrêter sans converger vers la solution optimale.\n",
    "\n",
    "Dans ce cas, on utilise l'entropie croisée.\n",
    "Etant donnée un ensemble de données avec $n$ échantillons, où le résulat $y$ est soit $1$ ou $0$.\n",
    "La fonction du coût est calculée comme suit, où $(i)$ réfère au i-ème échantillon  dans les données d'entrainement:\n",
    "\n",
    "### 4- Descente de Gradient \n",
    "\n",
    "Puisque $y$ peut prendre seulement les deux valeurs $0$ et $1$, cette fonction peut être simplifiée comme suit:\n",
    "\n",
    "\n",
    "$$ w = w - \\alpha . dw $$\n",
    "$$ b = b - \\alpha . dw $$\n",
    "\n",
    "\n",
    "<br/>\n",
    "\n",
    "$$ \\frac{\\partial J(\\omega)}{\\partial \\omega} = \\frac{1}{n}X^T(h_{\\omega}(x)-y)$$"
   ]
  },
  {
   "cell_type": "code",
   "execution_count": null,
   "metadata": {},
   "outputs": [],
   "source": []
  }
 ],
 "metadata": {
  "interpreter": {
   "hash": "ae728774eee256562aff2651c76309c3916f29437b55f618701e1f4834ebef1b"
  },
  "kernelspec": {
   "display_name": "Python 3.9.7 ('env_tensorflow')",
   "language": "python",
   "name": "python3"
  },
  "language_info": {
   "codemirror_mode": {
    "name": "ipython",
    "version": 3
   },
   "file_extension": ".py",
   "mimetype": "text/x-python",
   "name": "python",
   "nbconvert_exporter": "python",
   "pygments_lexer": "ipython3",
   "version": "3.9.7"
  },
  "orig_nbformat": 4
 },
 "nbformat": 4,
 "nbformat_minor": 2
}
