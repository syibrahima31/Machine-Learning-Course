{
 "cells": [
  {
   "cell_type": "code",
   "execution_count": 158,
   "id": "f3742235-3024-4635-bd81-5f6d365c7883",
   "metadata": {},
   "outputs": [],
   "source": [
    "import numpy as np \n",
    "import matplotlib.pyplot as plt \n",
    "from sklearn.datasets import load_iris \n",
    "from sklearn.model_selection import train_test_split , cross_val_score\n",
    "from  collections  import Counter \n",
    "from sklearn.neighbors import KNeighborsClassifier\n",
    "from sklearn.metrics import accuracy_score"
   ]
  },
  {
   "cell_type": "markdown",
   "id": "6a8f90fe-930a-4cca-91fc-ae4fa9b4a61d",
   "metadata": {},
   "source": [
    "#### CHARGEMENT DU JEU DE DONNEES "
   ]
  },
  {
   "cell_type": "code",
   "execution_count": 5,
   "id": "25c9b527-2396-4ff3-ae5d-72652aadd4c1",
   "metadata": {},
   "outputs": [],
   "source": [
    "data  = load_iris()"
   ]
  },
  {
   "cell_type": "code",
   "execution_count": 8,
   "id": "fc5d53d3-b03b-4e4a-8d4e-3a14d528c5f2",
   "metadata": {},
   "outputs": [],
   "source": [
    "X , y = data.data, data.target "
   ]
  },
  {
   "cell_type": "code",
   "execution_count": 122,
   "id": "af1f91dc-f50e-4842-9010-b36f01275738",
   "metadata": {},
   "outputs": [],
   "source": [
    "X_train, X_test, y_train, y_test = train_test_split(X, y, train_size=0.75)\n",
    "    "
   ]
  },
  {
   "cell_type": "code",
   "execution_count": 13,
   "id": "c43de036-4d66-4411-9e2c-4e198b09a24b",
   "metadata": {},
   "outputs": [
    {
     "name": "stdout",
     "output_type": "stream",
     "text": [
      "le nombre de ligne 150 et le nombre de colone est 4\n"
     ]
    }
   ],
   "source": [
    "nb_ligne, nb_colone = X.shape \n",
    "print(f\"le nombre de ligne {nb_ligne} et le nombre de colone est {nb_colone}\")"
   ]
  },
  {
   "cell_type": "code",
   "execution_count": 128,
   "id": "2401ff8c-0595-421e-81d4-73964cbbfa04",
   "metadata": {},
   "outputs": [],
   "source": [
    "class Knn: \n",
    "    def __init__(self, k, dist= \"euclidian\"): \n",
    "        \"\"\" \n",
    "            parameters :\n",
    "            -----------\n",
    "                k : c'est le nombre de voisin \n",
    "        \"\"\"\n",
    "        if k <1 : \n",
    "            self.k = 1 \n",
    "        else : \n",
    "            self.k = k \n",
    "            \n",
    "        self.dist = dist \n",
    "    \n",
    "    def fit(self, x_train_, ytrain): \n",
    "        \"\"\"\n",
    "            parameters : \n",
    "            ------------\n",
    "                xtrain : les features \n",
    "                ytrain : le target \n",
    "        \"\"\"\n",
    "        self.X = xtrain \n",
    "        self.y = ytrain \n",
    "    \n",
    "    def _predict(self, new_obs) : \n",
    "        \n",
    "        \n",
    "        if self.dist == \"euclidian\" :\n",
    "            distance = (np.sqrt((self.X  - new_obs)**2 )).sum(axis = 1 )\n",
    "            index   = np.argsort(distance)\n",
    "            labels = self.y[index]\n",
    "            k_labels = labels[:self.k]\n",
    "            counter = Counter(k_labels)\n",
    "            pred = counter.most_common()[0][0]\n",
    "            return pred \n",
    "        \n",
    "        elif self.dist == \"manhatan\":\n",
    "            distance = (np.sqrt(np.abs((self.X  - new_obs) ))).sum(axis = 1 )\n",
    "            index   = np.argsort(distance)\n",
    "            labels = self.y[index]\n",
    "            k_labels = labels[:self.k]\n",
    "            counter = Counter(k_labels)\n",
    "            pred = counter.most_common()[0][0]\n",
    "            return pred \n",
    "\n",
    "        \n",
    "    def predict(self, X): \n",
    "        L= [self._predict(x) for x in X ]\n",
    "        return np.array(L)\n",
    "    "
   ]
  },
  {
   "cell_type": "code",
   "execution_count": null,
   "id": "77ab9cac-c3c1-4166-ae53-94bbc8f88388",
   "metadata": {},
   "outputs": [],
   "source": []
  },
  {
   "cell_type": "code",
   "execution_count": 136,
   "id": "fef99b7e-5f18-4446-ae84-3a7a0ccc9d6b",
   "metadata": {},
   "outputs": [],
   "source": [
    "model = Knn(3, dist=\"euclidian\")\n"
   ]
  },
  {
   "cell_type": "code",
   "execution_count": 137,
   "id": "bef8bb63-822c-4c23-911c-002d7ea3ad13",
   "metadata": {},
   "outputs": [],
   "source": [
    "model.fit(X_train, y_train)"
   ]
  },
  {
   "cell_type": "code",
   "execution_count": 138,
   "id": "84671fb3-1283-4fdc-aa95-479bee10ea25",
   "metadata": {},
   "outputs": [
    {
     "data": {
      "text/plain": [
       "0.9736842105263158"
      ]
     },
     "execution_count": 138,
     "metadata": {},
     "output_type": "execute_result"
    }
   ],
   "source": [
    "(model.predict(X_test) == y_test).sum() / len(y_test)"
   ]
  },
  {
   "cell_type": "code",
   "execution_count": 146,
   "id": "61cca401-03b5-4a6b-89ab-c047ab82da55",
   "metadata": {},
   "outputs": [],
   "source": [
    "L_train =[]\n",
    "L_test =[]\n",
    "\n",
    "for i in range(1, 40): \n",
    "    model = Knn(i)\n",
    "    model.fit(X, y)\n",
    "    prediction_train = model.predict(X_train)\n",
    "    acc_train  = (prediction_train == y_train ).sum()/ y_train.shape[0]\n",
    "    L_train.append(acc_train) \n",
    "    \n",
    "    prediction_test = model.predict(X_test)\n",
    "    acc_test  = (prediction_test  == y_test ).sum()/ y_test.shape[0]\n",
    "    \n",
    "    L_test.append(acc_test) \n",
    "    \n",
    "    "
   ]
  },
  {
   "cell_type": "code",
   "execution_count": null,
   "id": "1a3c14fc-7b6c-4a03-bfb7-aa8df506f316",
   "metadata": {},
   "outputs": [],
   "source": []
  },
  {
   "cell_type": "code",
   "execution_count": 154,
   "id": "fc9d41c8-354e-4565-bcbf-554a87d602d5",
   "metadata": {},
   "outputs": [
    {
     "data": {
      "text/plain": [
       "Text(0, 0.5, 'accuracy')"
      ]
     },
     "execution_count": 154,
     "metadata": {},
     "output_type": "execute_result"
    },
    {
     "data": {
      "image/png": "[encoded data removed]",
      "text/plain": [
       "<Figure size 432x288 with 1 Axes>"
      ]
     },
     "metadata": {
      "needs_background": "light"
     },
     "output_type": "display_data"
    }
   ],
   "source": [
    "plt.plot(range(1, 40), L_train,label=\"train\" ) \n",
    "plt.plot(range(1, 40), L_test , label = \"test\") \n",
    "plt.legend()\n",
    "plt.xlabel(\"k\")\n",
    "\n",
    "plt.ylabel(\"accuracy\")"
   ]
  },
  {
   "cell_type": "code",
   "execution_count": null,
   "id": "ffb1cee8-8be8-48fe-8eb9-56f7c1f95a3c",
   "metadata": {},
   "outputs": [],
   "source": []
  },
  {
   "cell_type": "code",
   "execution_count": 157,
   "id": "c4b6174b-aee1-48a2-b4fd-19128c08f303",
   "metadata": {},
   "outputs": [],
   "source": [
    "model = KNeighborsClassifier()\n",
    "model.fit(X_train, y_train)\n",
    "pred = model.predict(X_test)"
   ]
  },
  {
   "cell_type": "code",
   "execution_count": 161,
   "id": "6de9dceb-b7ba-4b64-ba00-3889165d8215",
   "metadata": {},
   "outputs": [
    {
     "data": {
      "text/plain": [
       "0.9736842105263158"
      ]
     },
     "execution_count": 161,
     "metadata": {},
     "output_type": "execute_result"
    }
   ],
   "source": [
    "accuracy_score(y_test, pred)"
   ]
  },
  {
   "cell_type": "code",
   "execution_count": 2,
   "id": "e0c2f4de-fcf3-4389-acdb-a7797a3943a9",
   "metadata": {},
   "outputs": [],
   "source": [
    "from sklearn.neighbors import KNeighborsClassifier"
   ]
  },
  {
   "cell_type": "code",
   "execution_count": 3,
   "id": "a620a380-c709-4618-aff8-6c0246f96b39",
   "metadata": {},
   "outputs": [],
   "source": [
    "class knn(KNeighborsClassifier): \n",
    "    pass "
   ]
  },
  {
   "cell_type": "code",
   "execution_count": null,
   "id": "6b47e8ef-9903-4213-9321-640d1d19d5ab",
   "metadata": {},
   "outputs": [],
   "source": []
  }
 ],
 "metadata": {
  "kernelspec": {
   "display_name": "Python 3 (ipykernel)",
   "language": "python",
   "name": "python3"
  },
  "language_info": {
   "codemirror_mode": {
    "name": "ipython",
    "version": 3
   },
   "file_extension": ".py",
   "mimetype": "text/x-python",
   "name": "python",
   "nbconvert_exporter": "python",
   "pygments_lexer": "ipython3",
   "version": "3.9.7"
  }
 },
 "nbformat": 4,
 "nbformat_minor": 5
}
